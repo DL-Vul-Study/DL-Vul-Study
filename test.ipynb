{
 "cells": [
  {
   "cell_type": "code",
   "execution_count": 2,
   "metadata": {},
   "outputs": [],
   "source": [
    "from collections import Counter\n",
    "import pickle\n",
    "import pandas as pd\n",
    "import os\n",
    "def load_data(filename):\n",
    "    print(\"开始读取数据于：\", filename)\n",
    "    f = open(filename, 'rb')\n",
    "    data = pickle.load(f)\n",
    "    f.close()\n",
    "    return data\n",
    "    \n",
    "def sava_data(filename, data):\n",
    "    print(\"saving data to:\", filename)\n",
    "    f = open(filename, 'wb')\n",
    "    pickle.dump(data, f)\n",
    "    f.close()"
   ]
  },
  {
   "cell_type": "code",
   "execution_count": 15,
   "metadata": {},
   "outputs": [
    {
     "name": "stdout",
     "output_type": "stream",
     "text": [
      "开始读取数据于： /root/data/qm_data/issta2022/data/pkl/original_dataset/qemu/train.pkl\n",
      "开始读取数据于： /root/data/qm_data/issta2022/data/pkl/original_dataset/qemu/test.pkl\n",
      "0 15794 1755\n",
      "1 15794 1755\n",
      "2 15794 1755\n",
      "3 15794 1755\n",
      "4 15794 1755\n",
      "5 15794 1755\n",
      "6 15794 1755\n",
      "7 15794 1755\n",
      "8 15794 1755\n",
      "9 15795 1754\n"
     ]
    }
   ],
   "source": [
    "# ffmpeg  qemu  reveal\n",
    "file_type = \"qemu\"  \n",
    "model_type = \"vulroberta\"\n",
    "path_type = \"original_dataset\"\n",
    "# path_type = \"sub_original_dataset\"\n",
    "\n",
    "train_all = load_data(\"/root/data/qm_data/issta2022/data/pkl/original_dataset/\" + file_type + \"/train.pkl\")\n",
    "test_all = load_data(\"/root/data/qm_data/issta2022/data/pkl/original_dataset/\" + file_type +\"/test.pkl\")\n",
    "for i in range(10):\n",
    "    train_all[i] = list(train_all[i].filename.apply(lambda x: x.split(\".\")[0]))\n",
    "    test_all[i] = list(test_all[i].filename.apply(lambda x: x.split(\".\")[0]))\n",
    "    print(i, len(train_all[i]), len(test_all[i]))"
   ]
  },
  {
   "cell_type": "code",
   "execution_count": 16,
   "metadata": {},
   "outputs": [
    {
     "name": "stdout",
     "output_type": "stream",
     "text": [
      "开始读取数据于： /root/data/qm_data/issta2022/data/pkl/vulroberta/original_dataset/qemu/qemu_new.pkl\n"
     ]
    },
    {
     "data": {
      "text/html": [
       "<div>\n",
       "<style scoped>\n",
       "    .dataframe tbody tr th:only-of-type {\n",
       "        vertical-align: middle;\n",
       "    }\n",
       "\n",
       "    .dataframe tbody tr th {\n",
       "        vertical-align: top;\n",
       "    }\n",
       "\n",
       "    .dataframe thead th {\n",
       "        text-align: right;\n",
       "    }\n",
       "</style>\n",
       "<table border=\"1\" class=\"dataframe\">\n",
       "  <thead>\n",
       "    <tr style=\"text-align: right;\">\n",
       "      <th></th>\n",
       "      <th>filename</th>\n",
       "      <th>code</th>\n",
       "      <th>subcode</th>\n",
       "      <th>val</th>\n",
       "    </tr>\n",
       "  </thead>\n",
       "  <tbody>\n",
       "    <tr>\n",
       "      <th>0</th>\n",
       "      <td>0_qemu_803.c</td>\n",
       "      <td>[static void ppc_cpu_do_nmi_on_cpu(CPUState *c...</td>\n",
       "      <td>[0, 22, 33, 4129, 3668, 8350, 5768, 527, 8792,...</td>\n",
       "      <td>0</td>\n",
       "    </tr>\n",
       "    <tr>\n",
       "      <th>1</th>\n",
       "      <td>1_qemu_16058.c</td>\n",
       "      <td>[static uint32_t parse_enumeration(char *str,\\...</td>\n",
       "      <td>[0, 22, 6111, 6631, 11373, 3786, 110, 5, 111, ...</td>\n",
       "      <td>1</td>\n",
       "    </tr>\n",
       "    <tr>\n",
       "      <th>2</th>\n",
       "      <td>0_qemu_8578.c</td>\n",
       "      <td>[opts_next_list(Visitor *v, GenericList **list...</td>\n",
       "      <td>[0, 27423, 4770, 3828, 110, 35678, 111, 535, 1...</td>\n",
       "      <td>0</td>\n",
       "    </tr>\n",
       "    <tr>\n",
       "      <th>3</th>\n",
       "      <td>0_qemu_598.c</td>\n",
       "      <td>[vreader_list_delete(VReaderList *list)\\n, {\\n...</td>\n",
       "      <td>[0, 535, 13291, 43574, 110, 507, 8770, 4128, 1...</td>\n",
       "      <td>0</td>\n",
       "    </tr>\n",
       "    <tr>\n",
       "      <th>4</th>\n",
       "      <td>1_qemu_17520.c</td>\n",
       "      <td>[static void text_console_resize(QemuConsole *...</td>\n",
       "      <td>[0, 22, 33, 4741, 20115, 7661, 110, 502, 15412...</td>\n",
       "      <td>1</td>\n",
       "    </tr>\n",
       "    <tr>\n",
       "      <th>...</th>\n",
       "      <td>...</td>\n",
       "      <td>...</td>\n",
       "      <td>...</td>\n",
       "      <td>...</td>\n",
       "    </tr>\n",
       "    <tr>\n",
       "      <th>17544</th>\n",
       "      <td>1_qemu_10188.c</td>\n",
       "      <td>[static void pci_error_message(Monitor *mon)\\n...</td>\n",
       "      <td>[0, 22, 33, 7388, 20431, 110, 11056, 111, 4859...</td>\n",
       "      <td>1</td>\n",
       "    </tr>\n",
       "    <tr>\n",
       "      <th>17545</th>\n",
       "      <td>1_qemu_14081.c</td>\n",
       "      <td>[static int qcow2_truncate(BlockDriverState *b...</td>\n",
       "      <td>[0, 22, 6, 530, 44922, 4190, 17784, 110, 4732,...</td>\n",
       "      <td>1</td>\n",
       "    </tr>\n",
       "    <tr>\n",
       "      <th>17546</th>\n",
       "      <td>0_qemu_9609.c</td>\n",
       "      <td>[float32 float32_round_to_int( float32 a STATU...</td>\n",
       "      <td>[0, 19458, 38, 6003, 10139, 43575, 110, 19458,...</td>\n",
       "      <td>0</td>\n",
       "    </tr>\n",
       "    <tr>\n",
       "      <th>17547</th>\n",
       "      <td>0_qemu_6360.c</td>\n",
       "      <td>[static uint64_t mv88w8618_audio_read(void *op...</td>\n",
       "      <td>[0, 22, 8060, 8624, 7050, 536, 6503, 36937, 87...</td>\n",
       "      <td>0</td>\n",
       "    </tr>\n",
       "    <tr>\n",
       "      <th>17548</th>\n",
       "      <td>1_qemu_13411.c</td>\n",
       "      <td>[static int vnc_auth_sasl_check_ssf(VncState *...</td>\n",
       "      <td>[0, 22, 6, 535, 12857, 8442, 21449, 5272, 3653...</td>\n",
       "      <td>1</td>\n",
       "    </tr>\n",
       "  </tbody>\n",
       "</table>\n",
       "<p>17549 rows × 4 columns</p>\n",
       "</div>"
      ],
      "text/plain": [
       "             filename                                               code  \\\n",
       "0        0_qemu_803.c  [static void ppc_cpu_do_nmi_on_cpu(CPUState *c...   \n",
       "1      1_qemu_16058.c  [static uint32_t parse_enumeration(char *str,\\...   \n",
       "2       0_qemu_8578.c  [opts_next_list(Visitor *v, GenericList **list...   \n",
       "3        0_qemu_598.c  [vreader_list_delete(VReaderList *list)\\n, {\\n...   \n",
       "4      1_qemu_17520.c  [static void text_console_resize(QemuConsole *...   \n",
       "...               ...                                                ...   \n",
       "17544  1_qemu_10188.c  [static void pci_error_message(Monitor *mon)\\n...   \n",
       "17545  1_qemu_14081.c  [static int qcow2_truncate(BlockDriverState *b...   \n",
       "17546   0_qemu_9609.c  [float32 float32_round_to_int( float32 a STATU...   \n",
       "17547   0_qemu_6360.c  [static uint64_t mv88w8618_audio_read(void *op...   \n",
       "17548  1_qemu_13411.c  [static int vnc_auth_sasl_check_ssf(VncState *...   \n",
       "\n",
       "                                                 subcode  val  \n",
       "0      [0, 22, 33, 4129, 3668, 8350, 5768, 527, 8792,...    0  \n",
       "1      [0, 22, 6111, 6631, 11373, 3786, 110, 5, 111, ...    1  \n",
       "2      [0, 27423, 4770, 3828, 110, 35678, 111, 535, 1...    0  \n",
       "3      [0, 535, 13291, 43574, 110, 507, 8770, 4128, 1...    0  \n",
       "4      [0, 22, 33, 4741, 20115, 7661, 110, 502, 15412...    1  \n",
       "...                                                  ...  ...  \n",
       "17544  [0, 22, 33, 7388, 20431, 110, 11056, 111, 4859...    1  \n",
       "17545  [0, 22, 6, 530, 44922, 4190, 17784, 110, 4732,...    1  \n",
       "17546  [0, 19458, 38, 6003, 10139, 43575, 110, 19458,...    0  \n",
       "17547  [0, 22, 8060, 8624, 7050, 536, 6503, 36937, 87...    0  \n",
       "17548  [0, 22, 6, 535, 12857, 8442, 21449, 5272, 3653...    1  \n",
       "\n",
       "[17549 rows x 4 columns]"
      ]
     },
     "execution_count": 16,
     "metadata": {},
     "output_type": "execute_result"
    }
   ],
   "source": [
    "# all_set = load_data(\"/root/data/qm_data/issta2022/data/pkl/\" + model_type +\"/\" + path_type + \"/\" + file_type + \"/\" + file_type + \".pkl\")\n",
    "all_set = load_data(\"/root/data/qm_data/issta2022/data/pkl/\" + model_type +\"/\" + path_type + \"/\" + file_type + \"/\" + file_type + \"_new.pkl\")\n",
    "all_set"
   ]
  },
  {
   "cell_type": "code",
   "execution_count": 17,
   "metadata": {},
   "outputs": [
    {
     "name": "stdout",
     "output_type": "stream",
     "text": [
      "saving data to: /root/data/qm_data/issta2022/data/pkl/vulroberta/original_dataset/qemu/train_final.pkl\n",
      "saving data to: /root/data/qm_data/issta2022/data/pkl/vulroberta/original_dataset/qemu/test_final.pkl\n"
     ]
    }
   ],
   "source": [
    "train_tem = {}\n",
    "test_tem = {}\n",
    "for i in range(10):\n",
    "    train_tem[i] = all_set[all_set.filename.apply(lambda x: x.split(\".\")[0] in train_all[i])].reset_index(drop = True)\n",
    "    test_tem[i] = all_set[all_set.filename.apply(lambda x: x.split(\".\")[0] in test_all[i])].reset_index(drop = True)\n",
    "sava_data(\"/root/data/qm_data/issta2022/data/pkl/\" + model_type + \"/\" + path_type + \"/\" + file_type + \"/train_final.pkl\", train_tem )\n",
    "sava_data(\"/root/data/qm_data/issta2022/data/pkl/\" + model_type + \"/\" + path_type + \"/\" + file_type + \"/test_final.pkl\", test_tem )"
   ]
  },
  {
   "cell_type": "code",
   "execution_count": 103,
   "metadata": {},
   "outputs": [
    {
     "name": "stdout",
     "output_type": "stream",
     "text": [
      "开始读取数据于： /root/data/qm_data/issta2022/data/pkl/original_dataset/reveal/train.pkl\n",
      "开始读取数据于： /root/data/qm_data/issta2022/data/pkl/original_dataset/reveal/test.pkl\n",
      "0 20042 2228\n",
      "1 20042 2228\n",
      "2 20043 2227\n",
      "3 20043 2227\n",
      "4 20043 2227\n",
      "5 20043 2227\n",
      "6 20043 2227\n",
      "7 20043 2227\n",
      "8 20044 2226\n",
      "9 20044 2226\n"
     ]
    }
   ],
   "source": [
    "# ffmpeg  qemu  reveal\n",
    "file_type = \"reveal\"  \n",
    "model_type = \"reveal\"\n",
    "# path_type = \"original_dataset\"\n",
    "path_type = \"sub_original_dataset\"\n",
    "\n",
    "train_all = load_data(\"/root/data/qm_data/issta2022/data/pkl/original_dataset/\" + file_type + \"/train.pkl\")\n",
    "test_all = load_data(\"/root/data/qm_data/issta2022/data/pkl/original_dataset/\" + file_type +\"/test.pkl\")\n",
    "for i in range(10):\n",
    "    train_all[i] = list(train_all[i].filename.apply(lambda x: x.split(\".\")[0]))\n",
    "    test_all[i] = list(test_all[i].filename.apply(lambda x: x.split(\".\")[0]))\n",
    "    print(i, len(train_all[i]), len(test_all[i]))"
   ]
  },
  {
   "cell_type": "code",
   "execution_count": 104,
   "metadata": {},
   "outputs": [],
   "source": [
    "all_set = open(\"/root/data/qm_data/issta2022/data/pkl/\" + model_type +\"/\" + path_type + \"/\" + file_type + \"/\" + file_type + \".txt\", \"r\").readlines()\n",
    "for cnt in range(10):\n",
    "    train_tem = [i for i in all_set if i.split(\"/\")[-1].split(\".\")[0] in train_all[cnt]]\n",
    "    test_tem = [i for i in all_set if i.split(\"/\")[-1].split(\".\")[0] in test_all[cnt]]\n",
    "    with open(\"/root/data/qm_data/issta2022/data/pkl/\" + model_type + \"/\" + path_type + \"/\" + file_type + \"/train_\" + str(cnt) + \".txt\",'w') as f_tem:\n",
    "        f_tem.writelines(train_tem)\n",
    "    with open(\"/root/data/qm_data/issta2022/data/pkl/\" + model_type + \"/\" + path_type + \"/\" + file_type + \"/test_\" + str(cnt) + \".txt\",'w') as f_tem:\n",
    "        f_tem.writelines(test_tem)\n"
   ]
  },
  {
   "cell_type": "code",
   "execution_count": 1,
   "metadata": {},
   "outputs": [],
   "source": [
    "f = open(\"/root/data/qm_data/issta2022/data/pkl/code2vec/sub_original_dataset/ffmpeg/ffmpeg_0.test.c2v\", \"r\").readlines()"
   ]
  },
  {
   "cell_type": "code",
   "execution_count": 21,
   "metadata": {},
   "outputs": [
    {
     "name": "stderr",
     "output_type": "stream",
     "text": [
      "/root/data/anaconda3/envs/vulbg_ast/lib/python3.8/site-packages/tqdm/auto.py:22: TqdmWarning: IProgress not found. Please update jupyter and ipywidgets. See https://ipywidgets.readthedocs.io/en/stable/user_install.html\n",
      "  from .autonotebook import tqdm as notebook_tqdm\n"
     ]
    }
   ],
   "source": [
    "\n",
    "import random, torch\n",
    "import pickle\n",
    "kw = {}\n",
    "kw[\"file\"] = \"ffmpeg\"\n",
    "with open(f\"./data/pkl/code2vec/sub_original_dataset/\" + kw[\"file\"] + \"/\" + kw[\"file\"] + \".dict.c2v\", 'rb') as file:\n",
    "    word2count = pickle.load(file)\n",
    "    path2count = pickle.load(file)\n",
    "    target2count = pickle.load(file)\n",
    "    n_training_examples = pickle.load(file)\n",
    "word2idx = {'<unk>': 0, '<pad>': 1}\n",
    "path2idx = {'<unk>': 0, '<pad>': 1 }\n",
    "target2idx = {'<unk>': 0, '<pad>': 1}\n",
    "idx2word, idx2path, idx2target = {}, {}, {}\n",
    "for w in word2count.keys():          word2idx[w] = len(word2idx)    \n",
    "for k, v in word2idx.items():        idx2word[v] = k        \n",
    "for p in path2count.keys():          path2idx[p] = len(path2idx)        \n",
    "for k, v in path2idx.items():        idx2path[v] = k        \n",
    "for t in target2count.keys():        target2idx[t] = len(target2idx)        \n",
    "for k, v in target2idx.items():      idx2target[v] = k"
   ]
  },
  {
   "cell_type": "code",
   "execution_count": 22,
   "metadata": {},
   "outputs": [],
   "source": [
    "\n",
    "\n",
    "BATCH_SIZE = 128\n",
    "MAX_LENGTH = 200\n",
    "example_name, example_body = parse_line(f[0])\n",
    "example_length = len(example_body)\n",
    "example_body += [['<pad>', '<pad>', '<pad>']]*(MAX_LENGTH - example_length)\n",
    "tensor_n = torch.zeros(BATCH_SIZE).long() #name\n",
    "tensor_l = torch.zeros((BATCH_SIZE, MAX_LENGTH)).long() #left node\n",
    "tensor_p = torch.zeros((BATCH_SIZE, MAX_LENGTH)).long() #path\n",
    "tensor_r = torch.zeros((BATCH_SIZE, MAX_LENGTH)).long() #right node\n",
    "mask = torch.ones((BATCH_SIZE, MAX_LENGTH)).float() #mask"
   ]
  },
  {
   "cell_type": "code",
   "execution_count": 19,
   "metadata": {},
   "outputs": [
    {
     "data": {
      "text/plain": [
       "list"
      ]
     },
     "execution_count": 19,
     "metadata": {},
     "output_type": "execute_result"
    }
   ],
   "source": [
    "\n",
    "temp_n = target2idx.get(name, target2idx['<unk>'])\n",
    "temp_l, temp_p, temp_r = zip(*[(word2idx.get(l, word2idx['<unk>']), path2idx.get(p, path2idx['<unk>']), word2idx.get(r, word2idx['<unk>'])) for l, p, r in body])\n",
    "\n",
    "#store idxs inside tensors\n",
    "tensor_n[j] = temp_n\n",
    "tensor_l[j,:] = torch.LongTensor(temp_l)\n",
    "tensor_p[j,:] = torch.LongTensor(temp_p)\n",
    "tensor_r[j,:] = torch.LongTensor(temp_r)   \n",
    "\n",
    "#create masks\n",
    "mask[j, length:] = 0"
   ]
  },
  {
   "cell_type": "code",
   "execution_count": 14,
   "metadata": {},
   "outputs": [
    {
     "name": "stdout",
     "output_type": "stream",
     "text": [
      "开始读取数据于： /root/data/qm_data/issta2022/data/pkl/original_dataset/reveal/reveal.pkl\n"
     ]
    },
    {
     "data": {
      "text/plain": [
       "(20272, 1998)"
      ]
     },
     "execution_count": 14,
     "metadata": {},
     "output_type": "execute_result"
    }
   ],
   "source": [
    "aa = load_data(\"/root/data/qm_data/issta2022/data/pkl/original_dataset/reveal/reveal.pkl\")\n",
    "bb = [i for i in aa.val if i == 0]\n",
    "cc = [i for i in aa.val if i == 1]\n",
    "len(bb), len(cc)"
   ]
  },
  {
   "cell_type": "code",
   "execution_count": 15,
   "metadata": {},
   "outputs": [
    {
     "name": "stdout",
     "output_type": "stream",
     "text": [
      "开始读取数据于： /root/data/qm_data/issta2022/result/all_result.pkl\n"
     ]
    },
    {
     "data": {
      "text/plain": [
       "33"
      ]
     },
     "execution_count": 15,
     "metadata": {},
     "output_type": "execute_result"
    }
   ],
   "source": [
    "a = load_data(\"/root/data/qm_data/issta2022/result/all_result.pkl\")\n",
    "len(a.columns)\n",
    "# a.columns\n"
   ]
  }
 ],
 "metadata": {
  "kernelspec": {
   "display_name": "Python 3.8.13 ('vulbg_ast')",
   "language": "python",
   "name": "python3"
  },
  "language_info": {
   "codemirror_mode": {
    "name": "ipython",
    "version": 3
   },
   "file_extension": ".py",
   "mimetype": "text/x-python",
   "name": "python",
   "nbconvert_exporter": "python",
   "pygments_lexer": "ipython3",
   "version": "3.8.13"
  },
  "orig_nbformat": 4,
  "vscode": {
   "interpreter": {
    "hash": "38cad728b82bdbda92db48a31af71decf1d6c48178eff91f7facbd27d2d499c4"
   }
  }
 },
 "nbformat": 4,
 "nbformat_minor": 2
}
